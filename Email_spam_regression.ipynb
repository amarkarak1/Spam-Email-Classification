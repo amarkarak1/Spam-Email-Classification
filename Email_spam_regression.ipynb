{
  "nbformat": 4,
  "nbformat_minor": 0,
  "metadata": {
    "colab": {
      "name": "Email spam regression.ipynb",
      "provenance": [],
      "collapsed_sections": []
    },
    "kernelspec": {
      "name": "python3",
      "display_name": "Python 3"
    },
    "language_info": {
      "name": "python"
    }
  },
  "cells": [
    {
      "cell_type": "code",
      "metadata": {
        "id": "z1dB4xAssBna"
      },
      "source": [
        "import os\n",
        "from collections import Counter\n"
      ],
      "execution_count": 110,
      "outputs": []
    },
    {
      "cell_type": "code",
      "metadata": {
        "id": "Z2yLOzKUtbIh"
      },
      "source": [
        "folder = \"/content/drive/MyDrive/Email/\""
      ],
      "execution_count": 111,
      "outputs": []
    },
    {
      "cell_type": "code",
      "metadata": {
        "colab": {
          "base_uri": "https://localhost:8080/"
        },
        "id": "Ls26uUUwxxcn",
        "outputId": "66460608-70e0-4e35-8f64-6f700e926579"
      },
      "source": [
        "files = os.listdir(folder)\n",
        "len(files)\n"
      ],
      "execution_count": 112,
      "outputs": [
        {
          "output_type": "execute_result",
          "data": {
            "text/plain": [
              "5172"
            ]
          },
          "metadata": {
            "tags": []
          },
          "execution_count": 112
        }
      ]
    },
    {
      "cell_type": "code",
      "metadata": {
        "id": "wFr-GSlUyd1z"
      },
      "source": [
        "emails = [folder +file for file in files]"
      ],
      "execution_count": 113,
      "outputs": []
    },
    {
      "cell_type": "code",
      "metadata": {
        "id": "P4oqVXvHy_MB"
      },
      "source": [
        "words = []\n",
        "for email in emails:\n",
        "  f=open(email, encoding='latin-1')\n",
        "  blob = f.read()\n",
        "  words += blob.split(\" \")\n"
      ],
      "execution_count": 114,
      "outputs": []
    },
    {
      "cell_type": "code",
      "metadata": {
        "colab": {
          "base_uri": "https://localhost:8080/"
        },
        "id": "aeWfNFiMOFsw",
        "outputId": "1c0cf157-4658-48b7-8ef4-8770fe8d03fd"
      },
      "source": [
        "len(words)"
      ],
      "execution_count": 115,
      "outputs": [
        {
          "output_type": "execute_result",
          "data": {
            "text/plain": [
              "1083821"
            ]
          },
          "metadata": {
            "tags": []
          },
          "execution_count": 115
        }
      ]
    },
    {
      "cell_type": "code",
      "metadata": {
        "id": "G8PBBodj1Rt6"
      },
      "source": [
        "for i in range(len(words)):\n",
        "  if not words[i].isalpha():\n",
        "    words[i]=\"\""
      ],
      "execution_count": 119,
      "outputs": []
    },
    {
      "cell_type": "code",
      "metadata": {
        "colab": {
          "base_uri": "https://localhost:8080/"
        },
        "id": "_WcLF58mBWZJ",
        "outputId": "18033736-4e32-4b8d-be4d-c636f0d8f3af"
      },
      "source": [
        "word_dict = Counter(words)\n",
        "len(word_dict)"
      ],
      "execution_count": 120,
      "outputs": [
        {
          "output_type": "execute_result",
          "data": {
            "text/plain": [
              "40577"
            ]
          },
          "metadata": {
            "tags": []
          },
          "execution_count": 120
        }
      ]
    },
    {
      "cell_type": "code",
      "metadata": {
        "id": "UMjhSTlu4Hcl"
      },
      "source": [
        "del word_dict[\"\"]"
      ],
      "execution_count": 121,
      "outputs": []
    },
    {
      "cell_type": "code",
      "metadata": {
        "id": "RdVOLMCM3S1S"
      },
      "source": [
        "word_dict = word_dict.most_common(3000)\n"
      ],
      "execution_count": 122,
      "outputs": []
    },
    {
      "cell_type": "code",
      "metadata": {
        "colab": {
          "base_uri": "https://localhost:8080/"
        },
        "id": "Gwn37Vb641cT",
        "outputId": "40a91274-1df4-4499-cd86-5b8d521a1e17"
      },
      "source": [
        "word_dict"
      ],
      "execution_count": 123,
      "outputs": [
        {
          "output_type": "execute_result",
          "data": {
            "text/plain": [
              "[('the', 22003),\n",
              " ('to', 16118),\n",
              " ('ect', 11643),\n",
              " ('and', 11337),\n",
              " ('for', 9430),\n",
              " ('of', 9382),\n",
              " ('a', 8815),\n",
              " ('you', 7289),\n",
              " ('hou', 7283),\n",
              " ('in', 6885),\n",
              " ('on', 6723),\n",
              " ('is', 6664),\n",
              " ('this', 5895),\n",
              " ('enron', 5282),\n",
              " ('i', 4748),\n",
              " ('be', 4623),\n",
              " ('that', 4267),\n",
              " ('will', 3783),\n",
              " ('have', 3746),\n",
              " ('with', 3570),\n",
              " ('your', 3506),\n",
              " ('at', 3371),\n",
              " ('we', 3349),\n",
              " ('s', 3219),\n",
              " ('are', 3045),\n",
              " ('it', 2942),\n",
              " ('by', 2852),\n",
              " ('com', 2802),\n",
              " ('as', 2793),\n",
              " ('from', 2783),\n",
              " ('gas', 2756),\n",
              " ('or', 2723),\n",
              " ('not', 2653),\n",
              " ('me', 2416),\n",
              " ('deal', 2381),\n",
              " ('if', 2359),\n",
              " ('meter', 2179),\n",
              " ('hpl', 2116),\n",
              " ('please', 1959),\n",
              " ('re', 1954),\n",
              " ('e', 1774),\n",
              " ('any', 1766),\n",
              " ('our', 1765),\n",
              " ('corp', 1753),\n",
              " ('can', 1717),\n",
              " ('d', 1699),\n",
              " ('all', 1594),\n",
              " ('has', 1562),\n",
              " ('was', 1538),\n",
              " ('know', 1465),\n",
              " ('need', 1357),\n",
              " ('an', 1357),\n",
              " ('forwarded', 1292),\n",
              " ('new', 1291),\n",
              " ('t', 1288),\n",
              " ('may', 1273),\n",
              " ('up', 1251),\n",
              " ('j', 1239),\n",
              " ('mmbtu', 1193),\n",
              " ('should', 1157),\n",
              " ('do', 1157),\n",
              " ('am', 1103),\n",
              " ('get', 1090),\n",
              " ('out', 1077),\n",
              " ('see', 1075),\n",
              " ('no', 1060),\n",
              " ('there', 1049),\n",
              " ('price', 1036),\n",
              " ('daren', 1024),\n",
              " ('but', 1000),\n",
              " ('been', 992),\n",
              " ('company', 970),\n",
              " ('l', 961),\n",
              " ('these', 960),\n",
              " ('let', 956),\n",
              " ('so', 942),\n",
              " ('would', 941),\n",
              " ('m', 929),\n",
              " ('xls', 915),\n",
              " ('into', 915),\n",
              " ('farmer', 911),\n",
              " ('attached', 905),\n",
              " ('us', 896),\n",
              " ('information', 896),\n",
              " ('they', 895),\n",
              " ('message', 886),\n",
              " ('day', 883),\n",
              " ('time', 878),\n",
              " ('my', 848),\n",
              " ('one', 844),\n",
              " ('what', 829),\n",
              " ('only', 822),\n",
              " ('http', 807),\n",
              " ('th', 800),\n",
              " ('volume', 787),\n",
              " ('mail', 774),\n",
              " ('contract', 770),\n",
              " ('which', 755),\n",
              " ('month', 754),\n",
              " ('more', 747),\n",
              " ('robert', 737),\n",
              " ('sitara', 735),\n",
              " ('about', 730),\n",
              " ('texas', 729),\n",
              " ('nom', 724),\n",
              " ('energy', 718),\n",
              " ('pec', 709),\n",
              " ('questions', 705),\n",
              " ('www', 690),\n",
              " ('deals', 689),\n",
              " ('volumes', 683),\n",
              " ('pm', 677),\n",
              " ('ena', 674),\n",
              " ('now', 669),\n",
              " ('their', 666),\n",
              " ('file', 655),\n",
              " ('some', 634),\n",
              " ('email', 624),\n",
              " ('just', 618),\n",
              " ('also', 617),\n",
              " ('call', 616),\n",
              " ('change', 613),\n",
              " ('other', 606),\n",
              " ('here', 598),\n",
              " ('like', 593),\n",
              " ('b', 589),\n",
              " ('flow', 585),\n",
              " ('net', 584),\n",
              " ('following', 569),\n",
              " ('p', 566),\n",
              " ('production', 559),\n",
              " ('when', 553),\n",
              " ('over', 552),\n",
              " ('back', 541),\n",
              " ('want', 534),\n",
              " ('original', 533),\n",
              " ('them', 520),\n",
              " ('below', 513),\n",
              " ('o', 510),\n",
              " ('ticket', 509),\n",
              " ('c', 509),\n",
              " ('he', 505),\n",
              " ('could', 502),\n",
              " ('make', 497),\n",
              " ('inc', 493),\n",
              " ('report', 492),\n",
              " ('march', 488),\n",
              " ('contact', 483),\n",
              " ('days', 480),\n",
              " ('were', 480),\n",
              " ('list', 476),\n",
              " ('nomination', 474),\n",
              " ('system', 474),\n",
              " ('who', 473),\n",
              " ('april', 473),\n",
              " ('number', 472),\n",
              " ('sale', 472),\n",
              " ('don', 464),\n",
              " ('its', 463),\n",
              " ('first', 459),\n",
              " ('thanks', 455),\n",
              " ('business', 455),\n",
              " ('help', 453),\n",
              " ('per', 448),\n",
              " ('through', 447),\n",
              " ('july', 446),\n",
              " ('forward', 444),\n",
              " ('font', 443),\n",
              " ('free', 442),\n",
              " ('daily', 440),\n",
              " ('use', 439),\n",
              " ('order', 439),\n",
              " ('today', 437),\n",
              " ('r', 435),\n",
              " ('had', 432),\n",
              " ('fw', 429),\n",
              " ('set', 423),\n",
              " ('plant', 420),\n",
              " ('statements', 419),\n",
              " ('go', 416),\n",
              " ('gary', 413),\n",
              " ('oil', 411),\n",
              " ('line', 408),\n",
              " ('sales', 402),\n",
              " ('w', 401),\n",
              " ('effective', 396),\n",
              " ('well', 393),\n",
              " ('tenaska', 390),\n",
              " ('take', 387),\n",
              " ('june', 380),\n",
              " ('x', 379),\n",
              " ('within', 378),\n",
              " ('nbsp', 377),\n",
              " ('she', 376),\n",
              " ('how', 375),\n",
              " ('north', 371),\n",
              " ('america', 370),\n",
              " ('being', 369),\n",
              " ('under', 365),\n",
              " ('next', 363),\n",
              " ('week', 362),\n",
              " ('than', 360),\n",
              " ('january', 359),\n",
              " ('last', 356),\n",
              " ('two', 356),\n",
              " ('service', 356),\n",
              " ('purchase', 354),\n",
              " ('name', 352),\n",
              " ('less', 348),\n",
              " ('height', 347),\n",
              " ('agreement', 345),\n",
              " ('off', 345),\n",
              " ('k', 344),\n",
              " ('work', 342),\n",
              " ('tap', 340),\n",
              " ('group', 339),\n",
              " ('year', 338),\n",
              " ('transport', 337),\n",
              " ('based', 337),\n",
              " ('after', 335),\n",
              " ('think', 334),\n",
              " ('made', 333),\n",
              " ('each', 333),\n",
              " ('available', 333),\n",
              " ('changes', 328),\n",
              " ('due', 328),\n",
              " ('f', 327),\n",
              " ('h', 326),\n",
              " ('services', 324),\n",
              " ('smith', 322),\n",
              " ('send', 321),\n",
              " ('management', 321),\n",
              " ('ll', 319),\n",
              " ('sent', 319),\n",
              " ('stock', 319),\n",
              " ('co', 317),\n",
              " ('office', 316),\n",
              " ('needs', 316),\n",
              " ('cotten', 314),\n",
              " ('did', 313),\n",
              " ('actuals', 313),\n",
              " ('u', 313),\n",
              " ('before', 310),\n",
              " ('money', 310),\n",
              " ('looking', 308),\n",
              " ('then', 307),\n",
              " ('pills', 307),\n",
              " ('request', 305),\n",
              " ('online', 305),\n",
              " ('desk', 305),\n",
              " ('look', 305),\n",
              " ('ami', 304),\n",
              " ('his', 303),\n",
              " ('same', 303),\n",
              " ('george', 300),\n",
              " ('chokshi', 299),\n",
              " ('point', 298),\n",
              " ('delivery', 296),\n",
              " ('does', 294),\n",
              " ('size', 294),\n",
              " ('friday', 294),\n",
              " ('august', 294),\n",
              " ('product', 293),\n",
              " ('width', 292),\n",
              " ('pat', 292),\n",
              " ('iv', 289),\n",
              " ('noms', 286),\n",
              " ('address', 286),\n",
              " ('above', 285),\n",
              " ('sure', 284),\n",
              " ('give', 283),\n",
              " ('october', 283),\n",
              " ('find', 282),\n",
              " ('future', 282),\n",
              " ('market', 275),\n",
              " ('n', 274),\n",
              " ('mary', 273),\n",
              " ('vance', 272),\n",
              " ('melissa', 269),\n",
              " ('said', 269),\n",
              " ('internet', 269),\n",
              " ('still', 268),\n",
              " ('those', 267),\n",
              " ('account', 267),\n",
              " ('link', 267),\n",
              " ('down', 267),\n",
              " ('hsc', 266),\n",
              " ('rate', 265),\n",
              " ('pipeline', 264),\n",
              " ('people', 264),\n",
              " ('best', 263),\n",
              " ('actual', 262),\n",
              " ('very', 261),\n",
              " ('end', 261),\n",
              " ('home', 261),\n",
              " ('houston', 260),\n",
              " ('tu', 260),\n",
              " ('high', 259),\n",
              " ('her', 258),\n",
              " ('team', 258),\n",
              " ('products', 258),\n",
              " ('currently', 257),\n",
              " ('spot', 257),\n",
              " ('many', 257),\n",
              " ('receive', 256),\n",
              " ('good', 256),\n",
              " ('such', 256),\n",
              " ('process', 255),\n",
              " ('going', 255),\n",
              " ('feb', 255),\n",
              " ('monday', 254),\n",
              " ('info', 254),\n",
              " ('again', 253),\n",
              " ('both', 253),\n",
              " ('lloyd', 253),\n",
              " ('david', 253),\n",
              " ('click', 253),\n",
              " ('subject', 253),\n",
              " ('jackie', 252),\n",
              " ('december', 251),\n",
              " ('total', 251),\n",
              " ('na', 251),\n",
              " ('ve', 250),\n",
              " ('lisa', 250),\n",
              " ('september', 250),\n",
              " ('until', 246),\n",
              " ('hours', 246),\n",
              " ('resources', 245),\n",
              " ('because', 245),\n",
              " ('aol', 245),\n",
              " ('february', 244),\n",
              " ('where', 242),\n",
              " ('issue', 241),\n",
              " ('g', 241),\n",
              " ('investment', 241),\n",
              " ('duke', 241),\n",
              " ('since', 240),\n",
              " ('pay', 240),\n",
              " ('show', 239),\n",
              " ('global', 238),\n",
              " ('way', 238),\n",
              " ('computron', 238),\n",
              " ('place', 237),\n",
              " ('further', 237),\n",
              " ('most', 237),\n",
              " ('offer', 237),\n",
              " ('natural', 237),\n",
              " ('activity', 237),\n",
              " ('eastrans', 237),\n",
              " ('right', 236),\n",
              " ('graves', 236),\n",
              " ('prices', 236),\n",
              " ('date', 235),\n",
              " ('john', 235),\n",
              " ('utilities', 235),\n",
              " ('november', 234),\n",
              " ('clynes', 234),\n",
              " ('jan', 232),\n",
              " ('securities', 232),\n",
              " ('susan', 231),\n",
              " ('meeting', 231),\n",
              " ('hplc', 230),\n",
              " ('julie', 229),\n",
              " ('received', 229),\n",
              " ('able', 229),\n",
              " ('align', 227),\n",
              " ('term', 226),\n",
              " ('id', 224),\n",
              " ('revised', 223),\n",
              " ('thursday', 223),\n",
              " ('pg', 223),\n",
              " ('fee', 222),\n",
              " ('hplno', 222),\n",
              " ('trading', 221),\n",
              " ('additional', 219),\n",
              " ('site', 219),\n",
              " ('txu', 219),\n",
              " ('data', 218),\n",
              " ('wellhead', 218),\n",
              " ('reply', 218),\n",
              " ('taylor', 217),\n",
              " ('news', 217),\n",
              " ('unify', 216),\n",
              " ('michael', 216),\n",
              " ('note', 214),\n",
              " ('much', 214),\n",
              " ('provide', 214),\n",
              " ('access', 214),\n",
              " ('every', 213),\n",
              " ('lannou', 213),\n",
              " ('between', 212),\n",
              " ('keep', 211),\n",
              " ('review', 211),\n",
              " ('tuesday', 211),\n",
              " ('great', 210),\n",
              " ('tom', 210),\n",
              " ('put', 209),\n",
              " ('long', 208),\n",
              " ('done', 208),\n",
              " ('save', 208),\n",
              " ('section', 208),\n",
              " ('must', 207),\n",
              " ('check', 206),\n",
              " ('nd', 206),\n",
              " ('part', 206),\n",
              " ('million', 206),\n",
              " ('v', 206),\n",
              " ('trade', 205),\n",
              " ('bob', 204),\n",
              " ('created', 204),\n",
              " ('steve', 203),\n",
              " ('copy', 202),\n",
              " ('prior', 202),\n",
              " ('numbers', 201),\n",
              " ('continue', 201),\n",
              " ('via', 200),\n",
              " ('world', 200),\n",
              " ('demand', 200),\n",
              " ('hanks', 200),\n",
              " ('transaction', 199),\n",
              " ('customer', 199),\n",
              " ('contracts', 199),\n",
              " ('phone', 199),\n",
              " ('possible', 198),\n",
              " ('pefs', 198),\n",
              " ('meyers', 197),\n",
              " ('used', 197),\n",
              " ('months', 197),\n",
              " ('special', 197),\n",
              " ('without', 197),\n",
              " ('regarding', 197),\n",
              " ('software', 197),\n",
              " ('howard', 196),\n",
              " ('buy', 196),\n",
              " ('support', 196),\n",
              " ('young', 195),\n",
              " ('meters', 195),\n",
              " ('thru', 195),\n",
              " ('believe', 195),\n",
              " ('gcs', 195),\n",
              " ('cec', 195),\n",
              " ('control', 194),\n",
              " ('entered', 194),\n",
              " ('dec', 193),\n",
              " ('face', 193),\n",
              " ('create', 192),\n",
              " ('st', 191),\n",
              " ('weissman', 191),\n",
              " ('come', 190),\n",
              " ('color', 190),\n",
              " ('supply', 190),\n",
              " ('brian', 190),\n",
              " ('hplo', 190),\n",
              " ('correct', 188),\n",
              " ('own', 188),\n",
              " ('customers', 188),\n",
              " ('allocation', 187),\n",
              " ('web', 187),\n",
              " ('using', 186),\n",
              " ('soon', 186),\n",
              " ('development', 186),\n",
              " ('mark', 185),\n",
              " ('low', 185),\n",
              " ('power', 185),\n",
              " ('problem', 182),\n",
              " ('once', 182),\n",
              " ('however', 182),\n",
              " ('tickets', 182),\n",
              " ('border', 181),\n",
              " ('performance', 181),\n",
              " ('manager', 180),\n",
              " ('rates', 179),\n",
              " ('center', 178),\n",
              " ('companies', 177),\n",
              " ('risk', 177),\n",
              " ('details', 176),\n",
              " ('even', 175),\n",
              " ('international', 175),\n",
              " ('field', 175),\n",
              " ('needed', 175),\n",
              " ('lee', 174),\n",
              " ('doc', 174),\n",
              " ('fuel', 174),\n",
              " ('someone', 174),\n",
              " ('paid', 174),\n",
              " ('index', 173),\n",
              " ('start', 173),\n",
              " ('while', 173),\n",
              " ('include', 172),\n",
              " ('nominations', 171),\n",
              " ('act', 171),\n",
              " ('pricing', 171),\n",
              " ('gathering', 170),\n",
              " ('scheduled', 170),\n",
              " ('type', 170),\n",
              " ('href', 170),\n",
              " ('during', 169),\n",
              " ('anything', 168),\n",
              " ('aimee', 168),\n",
              " ('feel', 167),\n",
              " ('fuels', 167),\n",
              " ('getting', 167),\n",
              " ('why', 166),\n",
              " ('advice', 166),\n",
              " ('sell', 165),\n",
              " ('increase', 165),\n",
              " ('path', 165),\n",
              " ('three', 164),\n",
              " ('issues', 164),\n",
              " ('works', 164),\n",
              " ('enronxgate', 164),\n",
              " ('camp', 163),\n",
              " ('security', 162),\n",
              " ('form', 162),\n",
              " ('either', 162),\n",
              " ('interest', 162),\n",
              " ('financial', 162),\n",
              " ('family', 161),\n",
              " ('plan', 161),\n",
              " ('xp', 161),\n",
              " ('current', 160),\n",
              " ('top', 160),\n",
              " ('another', 160),\n",
              " ('src', 160),\n",
              " ('spreadsheet', 160),\n",
              " ('him', 159),\n",
              " ('read', 159),\n",
              " ('wednesday', 159),\n",
              " ('allen', 159),\n",
              " ('working', 159),\n",
              " ('wynne', 159),\n",
              " ('buyback', 158),\n",
              " ('add', 158),\n",
              " ('deliveries', 158),\n",
              " ('firm', 156),\n",
              " ('allocated', 156),\n",
              " ('james', 155),\n",
              " ('results', 154),\n",
              " ('tx', 154),\n",
              " ('marketing', 154),\n",
              " ('got', 154),\n",
              " ('stocks', 154),\n",
              " ('calpine', 153),\n",
              " ('might', 153),\n",
              " ('position', 153),\n",
              " ('operations', 153),\n",
              " ('logistics', 153),\n",
              " ('fax', 152),\n",
              " ('zero', 152),\n",
              " ('party', 152),\n",
              " ('cost', 152),\n",
              " ('old', 151),\n",
              " ('pops', 151),\n",
              " ('pt', 151),\n",
              " ('scheduling', 151),\n",
              " ('flowed', 151),\n",
              " ('update', 150),\n",
              " ('dollars', 150),\n",
              " ('katy', 150),\n",
              " ('gco', 150),\n",
              " ('follow', 149),\n",
              " ('including', 149),\n",
              " ('yahoo', 149),\n",
              " ('already', 148),\n",
              " ('suite', 147),\n",
              " ('error', 147),\n",
              " ('past', 147),\n",
              " ('changed', 145),\n",
              " ('stop', 145),\n",
              " ('page', 145),\n",
              " ('book', 145),\n",
              " ('program', 145),\n",
              " ('few', 144),\n",
              " ('operating', 144),\n",
              " ('better', 144),\n",
              " ('equistar', 144),\n",
              " ('move', 143),\n",
              " ('cotton', 143),\n",
              " ('aep', 142),\n",
              " ('y', 141),\n",
              " ('state', 141),\n",
              " ('ees', 141),\n",
              " ('provided', 140),\n",
              " ('rita', 140),\n",
              " ('period', 140),\n",
              " ('employees', 140),\n",
              " ('morning', 139),\n",
              " ('cd', 139),\n",
              " ('hotmail', 139),\n",
              " ('swing', 138),\n",
              " ('entex', 138),\n",
              " ('real', 138),\n",
              " ('exchange', 138),\n",
              " ('lst', 137),\n",
              " ('tomorrow', 137),\n",
              " ('counterparty', 136),\n",
              " ('parker', 136),\n",
              " ('person', 135),\n",
              " ('follows', 135),\n",
              " ('valid', 135),\n",
              " ('visit', 135),\n",
              " ('little', 134),\n",
              " ('professional', 134),\n",
              " ('confirm', 133),\n",
              " ('quality', 133),\n",
              " ('something', 133),\n",
              " ('megan', 133),\n",
              " ('brenda', 132),\n",
              " ('around', 132),\n",
              " ('windows', 132),\n",
              " ('storage', 132),\n",
              " ('im', 132),\n",
              " ('problems', 131),\n",
              " ('ranch', 131),\n",
              " ('tax', 131),\n",
              " ('called', 131),\n",
              " ('accounting', 131),\n",
              " ('case', 131),\n",
              " ('teco', 130),\n",
              " ('fact', 130),\n",
              " ('always', 130),\n",
              " ('too', 130),\n",
              " ('unsubscribe', 130),\n",
              " ('never', 129),\n",
              " ('coastal', 129),\n",
              " ('amount', 129),\n",
              " ('rodriguez', 128),\n",
              " ('love', 128),\n",
              " ('acton', 128),\n",
              " ('project', 127),\n",
              " ('shut', 127),\n",
              " ('pipe', 127),\n",
              " ('hope', 127),\n",
              " ('limited', 127),\n",
              " ('invoice', 126),\n",
              " ('credit', 126),\n",
              " ('full', 126),\n",
              " ('ray', 126),\n",
              " ('survey', 126),\n",
              " ('carlos', 125),\n",
              " ('anyone', 125),\n",
              " ('wanted', 125),\n",
              " ('yet', 125),\n",
              " ('ic', 125),\n",
              " ('scott', 125),\n",
              " ('years', 124),\n",
              " ('charlie', 124),\n",
              " ('soft', 124),\n",
              " ('notice', 123),\n",
              " ('advise', 123),\n",
              " ('donald', 123),\n",
              " ('addition', 123),\n",
              " ('lsk', 123),\n",
              " ('wish', 122),\n",
              " ('katherine', 122),\n",
              " ('website', 122),\n",
              " ('hplnl', 122),\n",
              " ('cover', 121),\n",
              " ('shares', 121),\n",
              " ('schumack', 121),\n",
              " ('prescription', 121),\n",
              " ('cash', 121),\n",
              " ('imbalance', 121),\n",
              " ('handle', 120),\n",
              " ('united', 120),\n",
              " ('big', 120),\n",
              " ('everyone', 119),\n",
              " ('clear', 119),\n",
              " ('style', 119),\n",
              " ('city', 119),\n",
              " ('weekend', 119),\n",
              " ('producer', 119),\n",
              " ('requested', 119),\n",
              " ('stone', 119),\n",
              " ('left', 118),\n",
              " ('payment', 118),\n",
              " ('mobil', 117),\n",
              " ('confirmed', 116),\n",
              " ('shows', 116),\n",
              " ('technology', 116),\n",
              " ('small', 116),\n",
              " ('meet', 116),\n",
              " ('extend', 116),\n",
              " ('life', 116),\n",
              " ('intended', 116),\n",
              " ('letter', 115),\n",
              " ('else', 115),\n",
              " ('schedule', 115),\n",
              " ('sherlyn', 115),\n",
              " ('box', 115),\n",
              " ('lamphier', 114),\n",
              " ('complete', 114),\n",
              " ('richard', 114),\n",
              " ('bill', 114),\n",
              " ('ever', 114),\n",
              " ('newsletter', 114),\n",
              " ('release', 114),\n",
              " ('papayoti', 113),\n",
              " ('herod', 113),\n",
              " ('beginning', 113),\n",
              " ('clem', 113),\n",
              " ('anita', 113),\n",
              " ('having', 113),\n",
              " ('try', 113),\n",
              " ('mike', 113),\n",
              " ('enter', 112),\n",
              " ('cut', 112),\n",
              " ('location', 112),\n",
              " ('estimates', 112),\n",
              " ('things', 112),\n",
              " ('personal', 112),\n",
              " ('question', 112),\n",
              " ('feedback', 112),\n",
              " ('found', 111),\n",
              " ('cialis', 111),\n",
              " ('area', 110),\n",
              " ('dow', 110),\n",
              " ('terms', 110),\n",
              " ('central', 110),\n",
              " ('necessary', 109),\n",
              " ('charge', 109),\n",
              " ('third', 109),\n",
              " ('midcon', 109),\n",
              " ('man', 109),\n",
              " ('run', 109),\n",
              " ('reason', 109),\n",
              " ('de', 109),\n",
              " ('listed', 109),\n",
              " ('president', 109),\n",
              " ('meds', 109),\n",
              " ('thought', 109),\n",
              " ('thomas', 109),\n",
              " ('added', 108),\n",
              " ('capital', 108),\n",
              " ('ask', 108),\n",
              " ('weeks', 108),\n",
              " ('investing', 108),\n",
              " ('commercial', 107),\n",
              " ('star', 107),\n",
              " ('several', 107),\n",
              " ('easy', 107),\n",
              " ('view', 107),\n",
              " ('cannot', 107),\n",
              " ('extended', 107),\n",
              " ('beaumont', 106),\n",
              " ('lauri', 106),\n",
              " ('union', 106),\n",
              " ('open', 105),\n",
              " ('cause', 105),\n",
              " ('monthly', 105),\n",
              " ('times', 105),\n",
              " ('action', 105),\n",
              " ('offers', 105),\n",
              " ('industry', 105),\n",
              " ('side', 104),\n",
              " ('states', 104),\n",
              " ('probably', 104),\n",
              " ('mailto', 104),\n",
              " ('second', 104),\n",
              " ('neal', 104),\n",
              " ('stephanie', 104),\n",
              " ('download', 104),\n",
              " ('flash', 104),\n",
              " ('final', 103),\n",
              " ('different', 103),\n",
              " ('important', 103),\n",
              " ('basis', 103),\n",
              " ('mcf', 103),\n",
              " ('transfer', 103),\n",
              " ('doing', 103),\n",
              " ('agree', 103),\n",
              " ('koch', 103),\n",
              " ('microsoft', 103),\n",
              " ('exxon', 103),\n",
              " ('remove', 103),\n",
              " ('interested', 103),\n",
              " ('sept', 103),\n",
              " ('application', 103),\n",
              " ('mg', 103),\n",
              " ('east', 102),\n",
              " ('lp', 102),\n",
              " ('write', 102),\n",
              " ('requirements', 102),\n",
              " ('code', 102),\n",
              " ('value', 102),\n",
              " ('thank', 102),\n",
              " ('together', 102),\n",
              " ('exploration', 102),\n",
              " ('mid', 102),\n",
              " ('dfarmer', 102),\n",
              " ('thu', 101),\n",
              " ('everything', 101),\n",
              " ('receipt', 101),\n",
              " ('afternoon', 101),\n",
              " ('late', 101),\n",
              " ('enserch', 101),\n",
              " ('response', 100),\n",
              " ('bank', 100),\n",
              " ('coming', 100),\n",
              " ('tell', 100),\n",
              " ('shipping', 100),\n",
              " ('night', 100),\n",
              " ('events', 100),\n",
              " ('cynthia', 100),\n",
              " ('lsp', 100),\n",
              " ('legal', 99),\n",
              " ('country', 99),\n",
              " ('direct', 99),\n",
              " ('close', 99),\n",
              " ('ces', 99),\n",
              " ('expected', 99),\n",
              " ('corporation', 99),\n",
              " ('options', 99),\n",
              " ('really', 99),\n",
              " ('voip', 99),\n",
              " ('valero', 98),\n",
              " ('potential', 98),\n",
              " ('latest', 98),\n",
              " ('priced', 98),\n",
              " ('edward', 98),\n",
              " ('etc', 98),\n",
              " ('nominated', 98),\n",
              " ('material', 98),\n",
              " ('stack', 98),\n",
              " ('victor', 98),\n",
              " ('redeliveries', 98),\n",
              " ('loss', 97),\n",
              " ('remember', 97),\n",
              " ('baumbach', 97),\n",
              " ('option', 97),\n",
              " ('private', 97),\n",
              " ('longer', 96),\n",
              " ('aware', 96),\n",
              " ('included', 96),\n",
              " ('drugs', 96),\n",
              " ('public', 96),\n",
              " ('reinhardt', 96),\n",
              " ('version', 96),\n",
              " ('hesse', 96),\n",
              " ('discuss', 95),\n",
              " ('asked', 95),\n",
              " ('related', 95),\n",
              " ('revision', 95),\n",
              " ('bgcolor', 95),\n",
              " ('say', 95),\n",
              " ('viagra', 95),\n",
              " ('pro', 95),\n",
              " ('kind', 95),\n",
              " ('completed', 95),\n",
              " ('health', 95),\n",
              " ('plans', 94),\n",
              " ('registered', 94),\n",
              " ('ready', 94),\n",
              " ('carthage', 94),\n",
              " ('regards', 94),\n",
              " ('zone', 94),\n",
              " ('fill', 94),\n",
              " ('away', 94),\n",
              " ('computer', 94),\n",
              " ('systems', 94),\n",
              " ('industrial', 94),\n",
              " ('mentioned', 94),\n",
              " ('therefore', 93),\n",
              " ('south', 93),\n",
              " ('sold', 93),\n",
              " ('track', 93),\n",
              " ('reports', 93),\n",
              " ('told', 93),\n",
              " ('growth', 93),\n",
              " ('rd', 93),\n",
              " ('jim', 93),\n",
              " ('costs', 93),\n",
              " ('image', 93),\n",
              " ('return', 93),\n",
              " ('expect', 93),\n",
              " ('el', 93),\n",
              " ('physical', 93),\n",
              " ('browser', 93),\n",
              " ('donna', 93),\n",
              " ('begin', 92),\n",
              " ('stacey', 92),\n",
              " ('china', 92),\n",
              " ('approximately', 92),\n",
              " ('duty', 92),\n",
              " ('unit', 92),\n",
              " ('showing', 92),\n",
              " ('jones', 92),\n",
              " ('updated', 91),\n",
              " ('verify', 91),\n",
              " ('hard', 91),\n",
              " ('cs', 91),\n",
              " ('eol', 91),\n",
              " ('talk', 91),\n",
              " ('orders', 91),\n",
              " ('trying', 91),\n",
              " ('given', 90),\n",
              " ('base', 90),\n",
              " ('source', 90),\n",
              " ('server', 90),\n",
              " ('pathed', 90),\n",
              " ('strong', 90),\n",
              " ('directly', 89),\n",
              " ('risks', 89),\n",
              " ('bryan', 89),\n",
              " ('whole', 89),\n",
              " ('major', 89),\n",
              " ('oo', 89),\n",
              " ('users', 89),\n",
              " ('purchases', 89),\n",
              " ('karen', 89),\n",
              " ('level', 88),\n",
              " ('delivered', 88),\n",
              " ('luong', 88),\n",
              " ('required', 88),\n",
              " ('riley', 88),\n",
              " ('portfolio', 88),\n",
              " ('ali', 88),\n",
              " ('easttexas', 88),\n",
              " ('poorman', 88),\n",
              " ('bellamy', 88),\n",
              " ('nothing', 87),\n",
              " ('assistance', 87),\n",
              " ('gif', 87),\n",
              " ('thing', 87),\n",
              " ('retail', 87),\n",
              " ('didn', 87),\n",
              " ('valley', 87),\n",
              " ('department', 87),\n",
              " ('cleburne', 87),\n",
              " ('answer', 86),\n",
              " ('gpgfin', 86),\n",
              " ('allow', 86),\n",
              " ('items', 86),\n",
              " ('paste', 86),\n",
              " ('avila', 86),\n",
              " ('nguyen', 85),\n",
              " ('ensure', 85),\n",
              " ('reference', 85),\n",
              " ('taken', 85),\n",
              " ('mm', 85),\n",
              " ('later', 85),\n",
              " ('hall', 85),\n",
              " ('lone', 85),\n",
              " ('user', 85),\n",
              " ('methanol', 84),\n",
              " ('facility', 84),\n",
              " ('spoke', 84),\n",
              " ('network', 84),\n",
              " ('though', 84),\n",
              " ('tabs', 84),\n",
              " ('says', 83),\n",
              " ('yourself', 83),\n",
              " ('status', 83),\n",
              " ('considered', 83),\n",
              " ('purchased', 83),\n",
              " ('taking', 83),\n",
              " ('paliourg', 83),\n",
              " ('dy', 83),\n",
              " ('jeff', 83),\n",
              " ('businesses', 83),\n",
              " ('fred', 83),\n",
              " ('transportation', 83),\n",
              " ('apache', 83),\n",
              " ('nov', 82),\n",
              " ('morris', 82),\n",
              " ('ltd', 82),\n",
              " ('brand', 82),\n",
              " ('statement', 82),\n",
              " ('oasis', 82),\n",
              " ('federal', 82),\n",
              " ('reflect', 82),\n",
              " ('assets', 82),\n",
              " ('general', 82),\n",
              " ('lamadrid', 82),\n",
              " ('oct', 81),\n",
              " ('ability', 81),\n",
              " ('bridge', 81),\n",
              " ('play', 81),\n",
              " ('enrononline', 81),\n",
              " ('spam', 81),\n",
              " ('compliance', 81),\n",
              " ('availability', 81),\n",
              " ('understanding', 80),\n",
              " ('effort', 80),\n",
              " ('quick', 80),\n",
              " ('chance', 80),\n",
              " ('king', 80),\n",
              " ('points', 80),\n",
              " ('reliantenergy', 80),\n",
              " ('fixed', 80),\n",
              " ('short', 80),\n",
              " ('hill', 80),\n",
              " ('cheryl', 80),\n",
              " ('aepin', 80),\n",
              " ('key', 79),\n",
              " ('valign', 79),\n",
              " ('understand', 79),\n",
              " ('bring', 79),\n",
              " ('took', 79),\n",
              " ('game', 79),\n",
              " ...]"
            ]
          },
          "metadata": {
            "tags": []
          },
          "execution_count": 123
        }
      ]
    },
    {
      "cell_type": "code",
      "metadata": {
        "id": "3kR1PBeZO-so"
      },
      "source": [
        "features=[]\n",
        "labels=[]\n",
        "for email in emails:\n",
        "  f=open(email,encoding='latin-1')\n",
        "  blob=f.read().split(\" \")\n",
        "  data=[]\n",
        "  for i in word_dict:\n",
        "    data.append(blob.count(i[0]))\n",
        "  features.append(data)\n",
        "\n",
        "  if 'spam' in email:\n",
        "    labels.append(1)\n",
        "  if 'ham' in email:\n",
        "    labels.append(0)"
      ],
      "execution_count": 127,
      "outputs": []
    },
    {
      "cell_type": "code",
      "metadata": {
        "colab": {
          "base_uri": "https://localhost:8080/"
        },
        "id": "ETTxT_Q9Djg7",
        "outputId": "c7e30379-4c4a-40ab-95d9-2301e52e1076"
      },
      "source": [
        "len(features)"
      ],
      "execution_count": 128,
      "outputs": [
        {
          "output_type": "execute_result",
          "data": {
            "text/plain": [
              "5172"
            ]
          },
          "metadata": {
            "tags": []
          },
          "execution_count": 128
        }
      ]
    },
    {
      "cell_type": "code",
      "metadata": {
        "colab": {
          "base_uri": "https://localhost:8080/"
        },
        "id": "NhJbbMMz4_7v",
        "outputId": "bd2e174e-19ce-46c6-bdbe-16c22faa65f0"
      },
      "source": [
        "len(labels)"
      ],
      "execution_count": 132,
      "outputs": [
        {
          "output_type": "execute_result",
          "data": {
            "text/plain": [
              "5172"
            ]
          },
          "metadata": {
            "tags": []
          },
          "execution_count": 132
        }
      ]
    },
    {
      "cell_type": "code",
      "metadata": {
        "colab": {
          "base_uri": "https://localhost:8080/"
        },
        "id": "d5mY6gGVGnyO",
        "outputId": "2d5f95f7-2d50-4d60-90b9-af14e35dce78"
      },
      "source": [
        "import numpy as np\n",
        "features = np.array(features)\n",
        "features.shape"
      ],
      "execution_count": 133,
      "outputs": [
        {
          "output_type": "execute_result",
          "data": {
            "text/plain": [
              "(5172, 3000)"
            ]
          },
          "metadata": {
            "tags": []
          },
          "execution_count": 133
        }
      ]
    },
    {
      "cell_type": "code",
      "metadata": {
        "colab": {
          "base_uri": "https://localhost:8080/"
        },
        "id": "ORpB2H_EG0hQ",
        "outputId": "adc9f039-6905-4665-eb47-1853357e6d9c"
      },
      "source": [
        "labels=np.array(labels)\n",
        "labels.shape"
      ],
      "execution_count": 134,
      "outputs": [
        {
          "output_type": "execute_result",
          "data": {
            "text/plain": [
              "(5172,)"
            ]
          },
          "metadata": {
            "tags": []
          },
          "execution_count": 134
        }
      ]
    },
    {
      "cell_type": "code",
      "metadata": {
        "id": "3oNPs0ACG_Yz"
      },
      "source": [
        " from sklearn.model_selection import train_test_split"
      ],
      "execution_count": 135,
      "outputs": []
    },
    {
      "cell_type": "code",
      "metadata": {
        "id": "WVA0hGeBHrAp"
      },
      "source": [
        "x_train,x_test,y_train,y_test= train_test_split(features, labels, test_size = .2, random_state = 9)"
      ],
      "execution_count": 136,
      "outputs": []
    },
    {
      "cell_type": "code",
      "metadata": {
        "id": "E25gT2ZwLAMe"
      },
      "source": [
        "from sklearn.naive_bayes import MultinomialNB\n",
        "classifier = MultinomialNB()"
      ],
      "execution_count": 137,
      "outputs": []
    },
    {
      "cell_type": "code",
      "metadata": {
        "colab": {
          "base_uri": "https://localhost:8080/"
        },
        "id": "uCCUd9aeLWUW",
        "outputId": "70569c82-52c8-4d8c-dd1d-28af2c6b8c09"
      },
      "source": [
        "classifier.fit(x_train,y_train)"
      ],
      "execution_count": 138,
      "outputs": [
        {
          "output_type": "execute_result",
          "data": {
            "text/plain": [
              "MultinomialNB(alpha=1.0, class_prior=None, fit_prior=True)"
            ]
          },
          "metadata": {
            "tags": []
          },
          "execution_count": 138
        }
      ]
    },
    {
      "cell_type": "code",
      "metadata": {
        "id": "Wfp5kxsRLdUe"
      },
      "source": [
        "new_email = \"\"\"  hi the team saw your presentation on marketing and they really happy . \"\"\""
      ],
      "execution_count": 139,
      "outputs": []
    },
    {
      "cell_type": "code",
      "metadata": {
        "id": "ziBh3ahPL2FD"
      },
      "source": [
        "sample=[]\n",
        "for i in word_dict:\n",
        "  sample.append(new_email.split(\" \").count(i[0]))"
      ],
      "execution_count": 140,
      "outputs": []
    },
    {
      "cell_type": "code",
      "metadata": {
        "id": "cta5OHhqMLjZ"
      },
      "source": [
        "sample = np.array(sample)"
      ],
      "execution_count": 141,
      "outputs": []
    },
    {
      "cell_type": "code",
      "metadata": {
        "colab": {
          "base_uri": "https://localhost:8080/"
        },
        "id": "VUq6FgprMR8r",
        "outputId": "1158b2dd-9d8d-4bf2-fa4f-49d22d98c543"
      },
      "source": [
        "classifier.predict(sample.reshape(1,3000))"
      ],
      "execution_count": 142,
      "outputs": [
        {
          "output_type": "execute_result",
          "data": {
            "text/plain": [
              "array([1])"
            ]
          },
          "metadata": {
            "tags": []
          },
          "execution_count": 142
        }
      ]
    },
    {
      "cell_type": "code",
      "metadata": {
        "id": "LYJ_hlH0Madh"
      },
      "source": [
        "y_pred = classifier.predict(x_test)"
      ],
      "execution_count": 143,
      "outputs": []
    },
    {
      "cell_type": "code",
      "metadata": {
        "id": "TWvYJZTeMmeb"
      },
      "source": [
        "from sklearn.metrics import accuracy_score\n"
      ],
      "execution_count": 144,
      "outputs": []
    },
    {
      "cell_type": "code",
      "metadata": {
        "colab": {
          "base_uri": "https://localhost:8080/"
        },
        "id": "SKoGL2awMx7H",
        "outputId": "24c5a60c-e4ea-457c-925a-95d8879bd374"
      },
      "source": [
        "accuracy_score(y_pred,y_test)"
      ],
      "execution_count": 145,
      "outputs": [
        {
          "output_type": "execute_result",
          "data": {
            "text/plain": [
              "0.9468599033816425"
            ]
          },
          "metadata": {
            "tags": []
          },
          "execution_count": 145
        }
      ]
    },
    {
      "cell_type": "code",
      "metadata": {
        "id": "lulKjP4FS350"
      },
      "source": [
        "import pickle"
      ],
      "execution_count": 150,
      "outputs": []
    },
    {
      "cell_type": "code",
      "metadata": {
        "id": "jzxqs2z-UtjV"
      },
      "source": [
        "pickle.dump(classifier, open('spam.pkl' , 'wb'))"
      ],
      "execution_count": 154,
      "outputs": []
    },
    {
      "cell_type": "code",
      "metadata": {
        "id": "G7Wy5UngV-2C"
      },
      "source": [
        " clf = pickle.load(open('spam.pkl' , 'rb'))"
      ],
      "execution_count": 155,
      "outputs": []
    },
    {
      "cell_type": "code",
      "metadata": {
        "colab": {
          "base_uri": "https://localhost:8080/"
        },
        "id": "65Yv4ehgWnEP",
        "outputId": "656907d8-feee-4dfc-f985-ff7eff4ef59a"
      },
      "source": [
        "clf"
      ],
      "execution_count": 157,
      "outputs": [
        {
          "output_type": "execute_result",
          "data": {
            "text/plain": [
              "MultinomialNB(alpha=1.0, class_prior=None, fit_prior=True)"
            ]
          },
          "metadata": {
            "tags": []
          },
          "execution_count": 157
        }
      ]
    },
    {
      "cell_type": "code",
      "metadata": {
        "id": "ru_rbu4FXDU2"
      },
      "source": [
        "new_email = \"\"\"  hi the team saw your presentation on marketing and they really happy . \"\"\""
      ],
      "execution_count": 158,
      "outputs": []
    },
    {
      "cell_type": "code",
      "metadata": {
        "id": "12OCsLnpXG5m"
      },
      "source": [
        "sample=[]\n",
        "for i in word_dict:\n",
        "  sample.append(new_email.split(\" \").count(i[0]))\n",
        "\n",
        "sample = np.array(sample)"
      ],
      "execution_count": 159,
      "outputs": []
    },
    {
      "cell_type": "code",
      "metadata": {
        "colab": {
          "base_uri": "https://localhost:8080/"
        },
        "id": "aUI8QflMXPLA",
        "outputId": "b90a2c2f-dc05-42ff-9890-95e48bd5aa93"
      },
      "source": [
        "classifier.predict(sample.reshape(1,3000))"
      ],
      "execution_count": 161,
      "outputs": [
        {
          "output_type": "execute_result",
          "data": {
            "text/plain": [
              "array([1])"
            ]
          },
          "metadata": {
            "tags": []
          },
          "execution_count": 161
        }
      ]
    }
  ]
}